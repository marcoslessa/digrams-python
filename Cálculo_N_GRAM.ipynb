{
  "nbformat": 4,
  "nbformat_minor": 0,
  "metadata": {
    "colab": {
      "name": "Cálculo N-GRAM.ipynb",
      "provenance": []
    },
    "kernelspec": {
      "name": "python3",
      "display_name": "Python 3"
    },
    "language_info": {
      "name": "python"
    }
  },
  "cells": [
    {
      "cell_type": "markdown",
      "metadata": {
        "id": "_vS8aY8_TRrM"
      },
      "source": [
        "# Cálculo do N-GRAM\n"
      ]
    },
    {
      "cell_type": "code",
      "metadata": {
        "colab": {
          "base_uri": "https://localhost:8080/"
        },
        "id": "gA8EbBDGTQ8D",
        "outputId": "2aae549b-14a8-4749-c001-2098d5ff8dc5"
      },
      "source": [
        "def calcGrams(string):\n",
        "  grams = list()  \n",
        "  for i, character in enumerate(string):\n",
        "    if i < len(string) - 1:    \n",
        "      grams.append(string[i] + string[i+1])\n",
        "\n",
        "  return list(set(grams))\n",
        "\n",
        "def compareStringToLexicon(string, lexicon):\n",
        "  a = calcGrams(string)\n",
        "\n",
        "  for word in lexicon:\n",
        "    b = calcGrams(word)    \n",
        "    c = len(set(a).intersection(b))\n",
        "    s = 2*c / (len(a) + len(b));\n",
        "\n",
        "    # exibe os valores em tela\n",
        "    print(string, word, s)\n",
        "\n",
        "string = 'abacates'\n",
        "lexicon = ['abacate', 'abacaxi', 'abobora', 'abobrinha', 'ananás', 'maça', 'mamão', 'manga', 'melancia', 'melão', 'mexerica', 'morango'] \n",
        "compareStringToLexicon(string, lexicon)"
      ],
      "execution_count": 4,
      "outputs": [
        {
          "output_type": "stream",
          "text": [
            "abacates abacate 0.9230769230769231\n",
            "abacates abacaxi 0.6153846153846154\n",
            "abacates abobora 0.16666666666666666\n",
            "abacates abobrinha 0.13333333333333333\n",
            "abacates ananás 0.0\n",
            "abacates maça 0.0\n",
            "abacates mamão 0.0\n",
            "abacates manga 0.0\n",
            "abacates melancia 0.0\n",
            "abacates melão 0.0\n",
            "abacates mexerica 0.14285714285714285\n",
            "abacates morango 0.0\n"
          ],
          "name": "stdout"
        }
      ]
    }
  ]
}